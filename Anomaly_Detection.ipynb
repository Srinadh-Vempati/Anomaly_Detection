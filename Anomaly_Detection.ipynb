{
  "nbformat": 4,
  "nbformat_minor": 0,
  "metadata": {
    "colab": {
      "name": "Anomaly_Detection.ipynb",
      "provenance": [],
      "collapsed_sections": []
    },
    "kernelspec": {
      "name": "python3",
      "display_name": "Python 3"
    },
    "language_info": {
      "name": "python"
    },
    "accelerator": "GPU"
  },
  "cells": [
    {
      "cell_type": "code",
      "execution_count": 1,
      "metadata": {
        "colab": {
          "base_uri": "https://localhost:8080/"
        },
        "id": "KthnHfylueTy",
        "outputId": "9cf14725-2e75-4bdb-8fa8-25ad63954b99"
      },
      "outputs": [
        {
          "output_type": "stream",
          "name": "stdout",
          "text": [
            "Drive already mounted at /content/drive; to attempt to forcibly remount, call drive.mount(\"/content/drive\", force_remount=True).\n"
          ]
        }
      ],
      "source": [
        "from google.colab import drive\n",
        "drive.mount('/content/drive')"
      ]
    },
    {
      "cell_type": "code",
      "source": [
        "import pandas as pd\n",
        "import numpy as np\n",
        "import scipy\n",
        "\n",
        "import matplotlib\n",
        "import seaborn\n",
        "import matplotlib.dates as md\n",
        "from matplotlib import pyplot as plt\n",
        "from mpl_toolkits.axes_grid1 import host_subplot\n",
        "import mpl_toolkits.axisartist as AA\n",
        "\n",
        "from sklearn import preprocessing\n",
        "from sklearn.decomposition import PCA\n",
        "from sklearn.cluster import KMeans\n",
        "from sklearn.covariance import EllipticEnvelope\n",
        "from pyemma import msm\n",
        "from sklearn.ensemble import IsolationForest\n",
        "from sklearn.svm import OneClassSVM\n",
        "from fbprophet import Prophet"
      ],
      "metadata": {
        "id": "hL6gpRrZ5y2K"
      },
      "execution_count": 3,
      "outputs": []
    },
    {
      "cell_type": "code",
      "source": [
        "url = 'https://raw.githubusercontent.com/Srinadh-Vempati/NAB/master/data/realKnownCause/ambient_temperature_system_failure.csv'\n",
        "df = pd.read_csv(url)\n"
      ],
      "metadata": {
        "id": "6N4fRThku9oc"
      },
      "execution_count": 4,
      "outputs": []
    },
    {
      "cell_type": "code",
      "source": [
        "df"
      ],
      "metadata": {
        "colab": {
          "base_uri": "https://localhost:8080/",
          "height": 423
        },
        "id": "GWudOb2RzhQF",
        "outputId": "db773d3b-1332-4d2b-a542-c545c611632a"
      },
      "execution_count": 5,
      "outputs": [
        {
          "output_type": "execute_result",
          "data": {
            "text/plain": [
              "                timestamp      value\n",
              "0     2013-07-04 00:00:00  69.880835\n",
              "1     2013-07-04 01:00:00  71.220227\n",
              "2     2013-07-04 02:00:00  70.877805\n",
              "3     2013-07-04 03:00:00  68.959400\n",
              "4     2013-07-04 04:00:00  69.283551\n",
              "...                   ...        ...\n",
              "7262  2014-05-28 11:00:00  72.370206\n",
              "7263  2014-05-28 12:00:00  72.172956\n",
              "7264  2014-05-28 13:00:00  72.046565\n",
              "7265  2014-05-28 14:00:00  71.825226\n",
              "7266  2014-05-28 15:00:00  72.584089\n",
              "\n",
              "[7267 rows x 2 columns]"
            ],
            "text/html": [
              "\n",
              "  <div id=\"df-6410cada-3607-492c-a399-a374af0c06b2\">\n",
              "    <div class=\"colab-df-container\">\n",
              "      <div>\n",
              "<style scoped>\n",
              "    .dataframe tbody tr th:only-of-type {\n",
              "        vertical-align: middle;\n",
              "    }\n",
              "\n",
              "    .dataframe tbody tr th {\n",
              "        vertical-align: top;\n",
              "    }\n",
              "\n",
              "    .dataframe thead th {\n",
              "        text-align: right;\n",
              "    }\n",
              "</style>\n",
              "<table border=\"1\" class=\"dataframe\">\n",
              "  <thead>\n",
              "    <tr style=\"text-align: right;\">\n",
              "      <th></th>\n",
              "      <th>timestamp</th>\n",
              "      <th>value</th>\n",
              "    </tr>\n",
              "  </thead>\n",
              "  <tbody>\n",
              "    <tr>\n",
              "      <th>0</th>\n",
              "      <td>2013-07-04 00:00:00</td>\n",
              "      <td>69.880835</td>\n",
              "    </tr>\n",
              "    <tr>\n",
              "      <th>1</th>\n",
              "      <td>2013-07-04 01:00:00</td>\n",
              "      <td>71.220227</td>\n",
              "    </tr>\n",
              "    <tr>\n",
              "      <th>2</th>\n",
              "      <td>2013-07-04 02:00:00</td>\n",
              "      <td>70.877805</td>\n",
              "    </tr>\n",
              "    <tr>\n",
              "      <th>3</th>\n",
              "      <td>2013-07-04 03:00:00</td>\n",
              "      <td>68.959400</td>\n",
              "    </tr>\n",
              "    <tr>\n",
              "      <th>4</th>\n",
              "      <td>2013-07-04 04:00:00</td>\n",
              "      <td>69.283551</td>\n",
              "    </tr>\n",
              "    <tr>\n",
              "      <th>...</th>\n",
              "      <td>...</td>\n",
              "      <td>...</td>\n",
              "    </tr>\n",
              "    <tr>\n",
              "      <th>7262</th>\n",
              "      <td>2014-05-28 11:00:00</td>\n",
              "      <td>72.370206</td>\n",
              "    </tr>\n",
              "    <tr>\n",
              "      <th>7263</th>\n",
              "      <td>2014-05-28 12:00:00</td>\n",
              "      <td>72.172956</td>\n",
              "    </tr>\n",
              "    <tr>\n",
              "      <th>7264</th>\n",
              "      <td>2014-05-28 13:00:00</td>\n",
              "      <td>72.046565</td>\n",
              "    </tr>\n",
              "    <tr>\n",
              "      <th>7265</th>\n",
              "      <td>2014-05-28 14:00:00</td>\n",
              "      <td>71.825226</td>\n",
              "    </tr>\n",
              "    <tr>\n",
              "      <th>7266</th>\n",
              "      <td>2014-05-28 15:00:00</td>\n",
              "      <td>72.584089</td>\n",
              "    </tr>\n",
              "  </tbody>\n",
              "</table>\n",
              "<p>7267 rows × 2 columns</p>\n",
              "</div>\n",
              "      <button class=\"colab-df-convert\" onclick=\"convertToInteractive('df-6410cada-3607-492c-a399-a374af0c06b2')\"\n",
              "              title=\"Convert this dataframe to an interactive table.\"\n",
              "              style=\"display:none;\">\n",
              "        \n",
              "  <svg xmlns=\"http://www.w3.org/2000/svg\" height=\"24px\"viewBox=\"0 0 24 24\"\n",
              "       width=\"24px\">\n",
              "    <path d=\"M0 0h24v24H0V0z\" fill=\"none\"/>\n",
              "    <path d=\"M18.56 5.44l.94 2.06.94-2.06 2.06-.94-2.06-.94-.94-2.06-.94 2.06-2.06.94zm-11 1L8.5 8.5l.94-2.06 2.06-.94-2.06-.94L8.5 2.5l-.94 2.06-2.06.94zm10 10l.94 2.06.94-2.06 2.06-.94-2.06-.94-.94-2.06-.94 2.06-2.06.94z\"/><path d=\"M17.41 7.96l-1.37-1.37c-.4-.4-.92-.59-1.43-.59-.52 0-1.04.2-1.43.59L10.3 9.45l-7.72 7.72c-.78.78-.78 2.05 0 2.83L4 21.41c.39.39.9.59 1.41.59.51 0 1.02-.2 1.41-.59l7.78-7.78 2.81-2.81c.8-.78.8-2.07 0-2.86zM5.41 20L4 18.59l7.72-7.72 1.47 1.35L5.41 20z\"/>\n",
              "  </svg>\n",
              "      </button>\n",
              "      \n",
              "  <style>\n",
              "    .colab-df-container {\n",
              "      display:flex;\n",
              "      flex-wrap:wrap;\n",
              "      gap: 12px;\n",
              "    }\n",
              "\n",
              "    .colab-df-convert {\n",
              "      background-color: #E8F0FE;\n",
              "      border: none;\n",
              "      border-radius: 50%;\n",
              "      cursor: pointer;\n",
              "      display: none;\n",
              "      fill: #1967D2;\n",
              "      height: 32px;\n",
              "      padding: 0 0 0 0;\n",
              "      width: 32px;\n",
              "    }\n",
              "\n",
              "    .colab-df-convert:hover {\n",
              "      background-color: #E2EBFA;\n",
              "      box-shadow: 0px 1px 2px rgba(60, 64, 67, 0.3), 0px 1px 3px 1px rgba(60, 64, 67, 0.15);\n",
              "      fill: #174EA6;\n",
              "    }\n",
              "\n",
              "    [theme=dark] .colab-df-convert {\n",
              "      background-color: #3B4455;\n",
              "      fill: #D2E3FC;\n",
              "    }\n",
              "\n",
              "    [theme=dark] .colab-df-convert:hover {\n",
              "      background-color: #434B5C;\n",
              "      box-shadow: 0px 1px 3px 1px rgba(0, 0, 0, 0.15);\n",
              "      filter: drop-shadow(0px 1px 2px rgba(0, 0, 0, 0.3));\n",
              "      fill: #FFFFFF;\n",
              "    }\n",
              "  </style>\n",
              "\n",
              "      <script>\n",
              "        const buttonEl =\n",
              "          document.querySelector('#df-6410cada-3607-492c-a399-a374af0c06b2 button.colab-df-convert');\n",
              "        buttonEl.style.display =\n",
              "          google.colab.kernel.accessAllowed ? 'block' : 'none';\n",
              "\n",
              "        async function convertToInteractive(key) {\n",
              "          const element = document.querySelector('#df-6410cada-3607-492c-a399-a374af0c06b2');\n",
              "          const dataTable =\n",
              "            await google.colab.kernel.invokeFunction('convertToInteractive',\n",
              "                                                     [key], {});\n",
              "          if (!dataTable) return;\n",
              "\n",
              "          const docLinkHtml = 'Like what you see? Visit the ' +\n",
              "            '<a target=\"_blank\" href=https://colab.research.google.com/notebooks/data_table.ipynb>data table notebook</a>'\n",
              "            + ' to learn more about interactive tables.';\n",
              "          element.innerHTML = '';\n",
              "          dataTable['output_type'] = 'display_data';\n",
              "          await google.colab.output.renderOutput(dataTable, element);\n",
              "          const docLink = document.createElement('div');\n",
              "          docLink.innerHTML = docLinkHtml;\n",
              "          element.appendChild(docLink);\n",
              "        }\n",
              "      </script>\n",
              "    </div>\n",
              "  </div>\n",
              "  "
            ]
          },
          "metadata": {},
          "execution_count": 5
        }
      ]
    },
    {
      "cell_type": "code",
      "source": [
        "df['timestamp'] = pd.to_datetime(df['timestamp'])\n",
        "# change °F to °C\n",
        "df['value'] = (df['value'] - 32) * 5/9\n",
        "# plot data\n",
        "df.plot(x='timestamp', y='value')"
      ],
      "metadata": {
        "colab": {
          "base_uri": "https://localhost:8080/",
          "height": 294
        },
        "id": "MUZ3sbAq2XEG",
        "outputId": "31d4eb63-ba1d-47c3-ed2c-3e73f98d26e2"
      },
      "execution_count": 6,
      "outputs": [
        {
          "output_type": "execute_result",
          "data": {
            "text/plain": [
              "<matplotlib.axes._subplots.AxesSubplot at 0x7fbf9fb79610>"
            ]
          },
          "metadata": {},
          "execution_count": 6
        },
        {
          "output_type": "display_data",
          "data": {
            "text/plain": [
              "<Figure size 432x288 with 1 Axes>"
            ],
            "image/png": "[encoded data removed]"
          },
          "metadata": {
            "needs_background": "light"
          }
        }
      ]
    },
    {
      "cell_type": "markdown",
      "source": [
        "### Custom Functions"
      ],
      "metadata": {
        "id": "_TzKGTcF61gh"
      }
    },
    {
      "cell_type": "code",
      "source": [
        ""
      ],
      "metadata": {
        "id": "nyjM_KDZ2XG6"
      },
      "execution_count": 6,
      "outputs": []
    },
    {
      "cell_type": "markdown",
      "source": [
        "### Feature Engineering\n",
        "- the hours and if it's night or day (7:00-22:00)\n",
        "- the day of the week (Monday=0, Sunday=6) and if it's a week end day or week day.\n",
        "- An estimation of anomly population of the dataset (necessary for several algorithm)\n",
        "- time with int to plot easily\n",
        "- creation of 4 distinct categories that seem useful (week end/day week & night/day)"
      ],
      "metadata": {
        "id": "P01krs2z64ul"
      }
    },
    {
      "cell_type": "code",
      "source": [
        "df['hours'] = df['timestamp'].dt.hour\n",
        "df['daylight'] = ((df['hours'] >= 7) & (df['hours'] <= 22)).astype(int)"
      ],
      "metadata": {
        "id": "BzV32ESi2XKu"
      },
      "execution_count": 7,
      "outputs": []
    },
    {
      "cell_type": "code",
      "source": [
        "df['DayOfTheWeek'] = df['timestamp'].dt.dayofweek\n",
        "df['WeekDay'] = (df['DayOfTheWeek'] < 5).astype(int)\n",
        "outliers_fraction = 0.01"
      ],
      "metadata": {
        "id": "hE_2Woo_zhTS"
      },
      "execution_count": 8,
      "outputs": []
    },
    {
      "cell_type": "code",
      "source": [
        "df['time_epoch'] = df['timestamp'].view(np.int64)/1e11\n",
        "df['time_epoch'] = df['time_epoch'].astype(np.int64)"
      ],
      "metadata": {
        "id": "ao6D4sPpzhYZ"
      },
      "execution_count": 9,
      "outputs": []
    },
    {
      "cell_type": "code",
      "source": [
        "df['categories'] = df['WeekDay']*2 + df['daylight']\n",
        "a = df.loc[df['categories'] == 0, 'value']\n",
        "b = df.loc[df['categories'] == 1, 'value']\n",
        "c = df.loc[df['categories'] == 2, 'value']\n",
        "d = df.loc[df['categories'] == 3, 'value']\n",
        "\n",
        "fig, ax = plt.subplots()\n",
        "a_heights, a_bins = np.histogram(a)\n",
        "b_heights, b_bins = np.histogram(b, bins=a_bins)\n",
        "c_heights, c_bins = np.histogram(c, bins=a_bins)\n",
        "d_heights, d_bins = np.histogram(d, bins=a_bins)\n",
        "\n",
        "width = (a_bins[1] - a_bins[0])/6\n",
        "\n",
        "ax.bar(a_bins[:-1], a_heights*100/a.count(), width=width, facecolor='blue', label='WeekEndNight')\n",
        "ax.bar(b_bins[:-1]+width, (b_heights*100/b.count()), width=width, facecolor='green', label ='WeekEndLight')\n",
        "ax.bar(c_bins[:-1]+width*2, (c_heights*100/c.count()), width=width, facecolor='red', label ='WeekDayNight')\n",
        "ax.bar(d_bins[:-1]+width*3, (d_heights*100/d.count()), width=width, facecolor='black', label ='WeekDayLight')\n",
        "\n",
        "plt.legend()\n",
        "plt.show()\n"
      ],
      "metadata": {
        "colab": {
          "base_uri": "https://localhost:8080/",
          "height": 265
        },
        "id": "ilbBai8i-rwm",
        "outputId": "582a6ccd-af17-4727-cacd-d36a1c5d5114"
      },
      "execution_count": 10,
      "outputs": [
        {
          "output_type": "display_data",
          "data": {
            "text/plain": [
              "<Figure size 432x288 with 1 Axes>"
            ],
            "image/png": "[encoded data removed]"
          },
          "metadata": {
            "needs_background": "light"
          }
        }
      ]
    },
    {
      "cell_type": "code",
      "source": [
        "df"
      ],
      "metadata": {
        "colab": {
          "base_uri": "https://localhost:8080/",
          "height": 834
        },
        "id": "2Hq6THW3zhdP",
        "outputId": "d2459860-615f-42ce-ee28-29dc0f1ef739"
      },
      "execution_count": 11,
      "outputs": [
        {
          "output_type": "execute_result",
          "data": {
            "text/plain": [
              "               timestamp      value  hours  daylight  DayOfTheWeek  WeekDay  \\\n",
              "0    2013-07-04 00:00:00  21.044908      0         0             3        1   \n",
              "1    2013-07-04 01:00:00  21.789015      1         0             3        1   \n",
              "2    2013-07-04 02:00:00  21.598781      2         0             3        1   \n",
              "3    2013-07-04 03:00:00  20.533000      3         0             3        1   \n",
              "4    2013-07-04 04:00:00  20.713084      4         0             3        1   \n",
              "...                  ...        ...    ...       ...           ...      ...   \n",
              "7262 2014-05-28 11:00:00  22.427892     11         1             2        1   \n",
              "7263 2014-05-28 12:00:00  22.318309     12         1             2        1   \n",
              "7264 2014-05-28 13:00:00  22.248092     13         1             2        1   \n",
              "7265 2014-05-28 14:00:00  22.125126     14         1             2        1   \n",
              "7266 2014-05-28 15:00:00  22.546716     15         1             2        1   \n",
              "\n",
              "      time_epoch  categories  \n",
              "0       13728960           2  \n",
              "1       13728996           2  \n",
              "2       13729032           2  \n",
              "3       13729068           2  \n",
              "4       13729104           2  \n",
              "...          ...         ...  \n",
              "7262    14012748           3  \n",
              "7263    14012784           3  \n",
              "7264    14012820           3  \n",
              "7265    14012856           3  \n",
              "7266    14012892           3  \n",
              "\n",
              "[7267 rows x 8 columns]"
            ],
            "text/html": [
              "\n",
              "  <div id=\"df-53d2e76c-3890-4416-904a-8fd6b66a3c93\">\n",
              "    <div class=\"colab-df-container\">\n",
              "      <div>\n",
              "<style scoped>\n",
              "    .dataframe tbody tr th:only-of-type {\n",
              "        vertical-align: middle;\n",
              "    }\n",
              "\n",
              "    .dataframe tbody tr th {\n",
              "        vertical-align: top;\n",
              "    }\n",
              "\n",
              "    .dataframe thead th {\n",
              "        text-align: right;\n",
              "    }\n",
              "</style>\n",
              "<table border=\"1\" class=\"dataframe\">\n",
              "  <thead>\n",
              "    <tr style=\"text-align: right;\">\n",
              "      <th></th>\n",
              "      <th>timestamp</th>\n",
              "      <th>value</th>\n",
              "      <th>hours</th>\n",
              "      <th>daylight</th>\n",
              "      <th>DayOfTheWeek</th>\n",
              "      <th>WeekDay</th>\n",
              "      <th>time_epoch</th>\n",
              "      <th>categories</th>\n",
              "    </tr>\n",
              "  </thead>\n",
              "  <tbody>\n",
              "    <tr>\n",
              "      <th>0</th>\n",
              "      <td>2013-07-04 00:00:00</td>\n",
              "      <td>21.044908</td>\n",
              "      <td>0</td>\n",
              "      <td>0</td>\n",
              "      <td>3</td>\n",
              "      <td>1</td>\n",
              "      <td>13728960</td>\n",
              "      <td>2</td>\n",
              "    </tr>\n",
              "    <tr>\n",
              "      <th>1</th>\n",
              "      <td>2013-07-04 01:00:00</td>\n",
              "      <td>21.789015</td>\n",
              "      <td>1</td>\n",
              "      <td>0</td>\n",
              "      <td>3</td>\n",
              "      <td>1</td>\n",
              "      <td>13728996</td>\n",
              "      <td>2</td>\n",
              "    </tr>\n",
              "    <tr>\n",
              "      <th>2</th>\n",
              "      <td>2013-07-04 02:00:00</td>\n",
              "      <td>21.598781</td>\n",
              "      <td>2</td>\n",
              "      <td>0</td>\n",
              "      <td>3</td>\n",
              "      <td>1</td>\n",
              "      <td>13729032</td>\n",
              "      <td>2</td>\n",
              "    </tr>\n",
              "    <tr>\n",
              "      <th>3</th>\n",
              "      <td>2013-07-04 03:00:00</td>\n",
              "      <td>20.533000</td>\n",
              "      <td>3</td>\n",
              "      <td>0</td>\n",
              "      <td>3</td>\n",
              "      <td>1</td>\n",
              "      <td>13729068</td>\n",
              "      <td>2</td>\n",
              "    </tr>\n",
              "    <tr>\n",
              "      <th>4</th>\n",
              "      <td>2013-07-04 04:00:00</td>\n",
              "      <td>20.713084</td>\n",
              "      <td>4</td>\n",
              "      <td>0</td>\n",
              "      <td>3</td>\n",
              "      <td>1</td>\n",
              "      <td>13729104</td>\n",
              "      <td>2</td>\n",
              "    </tr>\n",
              "    <tr>\n",
              "      <th>...</th>\n",
              "      <td>...</td>\n",
              "      <td>...</td>\n",
              "      <td>...</td>\n",
              "      <td>...</td>\n",
              "      <td>...</td>\n",
              "      <td>...</td>\n",
              "      <td>...</td>\n",
              "      <td>...</td>\n",
              "    </tr>\n",
              "    <tr>\n",
              "      <th>7262</th>\n",
              "      <td>2014-05-28 11:00:00</td>\n",
              "      <td>22.427892</td>\n",
              "      <td>11</td>\n",
              "      <td>1</td>\n",
              "      <td>2</td>\n",
              "      <td>1</td>\n",
              "      <td>14012748</td>\n",
              "      <td>3</td>\n",
              "    </tr>\n",
              "    <tr>\n",
              "      <th>7263</th>\n",
              "      <td>2014-05-28 12:00:00</td>\n",
              "      <td>22.318309</td>\n",
              "      <td>12</td>\n",
              "      <td>1</td>\n",
              "      <td>2</td>\n",
              "      <td>1</td>\n",
              "      <td>14012784</td>\n",
              "      <td>3</td>\n",
              "    </tr>\n",
              "    <tr>\n",
              "      <th>7264</th>\n",
              "      <td>2014-05-28 13:00:00</td>\n",
              "      <td>22.248092</td>\n",
              "      <td>13</td>\n",
              "      <td>1</td>\n",
              "      <td>2</td>\n",
              "      <td>1</td>\n",
              "      <td>14012820</td>\n",
              "      <td>3</td>\n",
              "    </tr>\n",
              "    <tr>\n",
              "      <th>7265</th>\n",
              "      <td>2014-05-28 14:00:00</td>\n",
              "      <td>22.125126</td>\n",
              "      <td>14</td>\n",
              "      <td>1</td>\n",
              "      <td>2</td>\n",
              "      <td>1</td>\n",
              "      <td>14012856</td>\n",
              "      <td>3</td>\n",
              "    </tr>\n",
              "    <tr>\n",
              "      <th>7266</th>\n",
              "      <td>2014-05-28 15:00:00</td>\n",
              "      <td>22.546716</td>\n",
              "      <td>15</td>\n",
              "      <td>1</td>\n",
              "      <td>2</td>\n",
              "      <td>1</td>\n",
              "      <td>14012892</td>\n",
              "      <td>3</td>\n",
              "    </tr>\n",
              "  </tbody>\n",
              "</table>\n",
              "<p>7267 rows × 8 columns</p>\n",
              "</div>\n",
              "      <button class=\"colab-df-convert\" onclick=\"convertToInteractive('df-53d2e76c-3890-4416-904a-8fd6b66a3c93')\"\n",
              "              title=\"Convert this dataframe to an interactive table.\"\n",
              "              style=\"display:none;\">\n",
              "        \n",
              "  <svg xmlns=\"http://www.w3.org/2000/svg\" height=\"24px\"viewBox=\"0 0 24 24\"\n",
              "       width=\"24px\">\n",
              "    <path d=\"M0 0h24v24H0V0z\" fill=\"none\"/>\n",
              "    <path d=\"M18.56 5.44l.94 2.06.94-2.06 2.06-.94-2.06-.94-.94-2.06-.94 2.06-2.06.94zm-11 1L8.5 8.5l.94-2.06 2.06-.94-2.06-.94L8.5 2.5l-.94 2.06-2.06.94zm10 10l.94 2.06.94-2.06 2.06-.94-2.06-.94-.94-2.06-.94 2.06-2.06.94z\"/><path d=\"M17.41 7.96l-1.37-1.37c-.4-.4-.92-.59-1.43-.59-.52 0-1.04.2-1.43.59L10.3 9.45l-7.72 7.72c-.78.78-.78 2.05 0 2.83L4 21.41c.39.39.9.59 1.41.59.51 0 1.02-.2 1.41-.59l7.78-7.78 2.81-2.81c.8-.78.8-2.07 0-2.86zM5.41 20L4 18.59l7.72-7.72 1.47 1.35L5.41 20z\"/>\n",
              "  </svg>\n",
              "      </button>\n",
              "      \n",
              "  <style>\n",
              "    .colab-df-container {\n",
              "      display:flex;\n",
              "      flex-wrap:wrap;\n",
              "      gap: 12px;\n",
              "    }\n",
              "\n",
              "    .colab-df-convert {\n",
              "      background-color: #E8F0FE;\n",
              "      border: none;\n",
              "      border-radius: 50%;\n",
              "      cursor: pointer;\n",
              "      display: none;\n",
              "      fill: #1967D2;\n",
              "      height: 32px;\n",
              "      padding: 0 0 0 0;\n",
              "      width: 32px;\n",
              "    }\n",
              "\n",
              "    .colab-df-convert:hover {\n",
              "      background-color: #E2EBFA;\n",
              "      box-shadow: 0px 1px 2px rgba(60, 64, 67, 0.3), 0px 1px 3px 1px rgba(60, 64, 67, 0.15);\n",
              "      fill: #174EA6;\n",
              "    }\n",
              "\n",
              "    [theme=dark] .colab-df-convert {\n",
              "      background-color: #3B4455;\n",
              "      fill: #D2E3FC;\n",
              "    }\n",
              "\n",
              "    [theme=dark] .colab-df-convert:hover {\n",
              "      background-color: #434B5C;\n",
              "      box-shadow: 0px 1px 3px 1px rgba(0, 0, 0, 0.15);\n",
              "      filter: drop-shadow(0px 1px 2px rgba(0, 0, 0, 0.3));\n",
              "      fill: #FFFFFF;\n",
              "    }\n",
              "  </style>\n",
              "\n",
              "      <script>\n",
              "        const buttonEl =\n",
              "          document.querySelector('#df-53d2e76c-3890-4416-904a-8fd6b66a3c93 button.colab-df-convert');\n",
              "        buttonEl.style.display =\n",
              "          google.colab.kernel.accessAllowed ? 'block' : 'none';\n",
              "\n",
              "        async function convertToInteractive(key) {\n",
              "          const element = document.querySelector('#df-53d2e76c-3890-4416-904a-8fd6b66a3c93');\n",
              "          const dataTable =\n",
              "            await google.colab.kernel.invokeFunction('convertToInteractive',\n",
              "                                                     [key], {});\n",
              "          if (!dataTable) return;\n",
              "\n",
              "          const docLinkHtml = 'Like what you see? Visit the ' +\n",
              "            '<a target=\"_blank\" href=https://colab.research.google.com/notebooks/data_table.ipynb>data table notebook</a>'\n",
              "            + ' to learn more about interactive tables.';\n",
              "          element.innerHTML = '';\n",
              "          dataTable['output_type'] = 'display_data';\n",
              "          await google.colab.output.renderOutput(dataTable, element);\n",
              "          const docLink = document.createElement('div');\n",
              "          docLink.innerHTML = docLinkHtml;\n",
              "          element.appendChild(docLink);\n",
              "        }\n",
              "      </script>\n",
              "    </div>\n",
              "  </div>\n",
              "  "
            ]
          },
          "metadata": {},
          "execution_count": 11
        }
      ]
    },
    {
      "cell_type": "markdown",
      "source": [
        "### Models"
      ],
      "metadata": {
        "id": "tzZI6pBKD59h"
      }
    },
    {
      "cell_type": "markdown",
      "source": [
        "#### **1. Clustering**"
      ],
      "metadata": {
        "id": "E2ZS2n_8cqLX"
      }
    },
    {
      "cell_type": "code",
      "source": [
        "# Features\n",
        "data = df[['value', 'hours', 'daylight', 'DayOfTheWeek', 'WeekDay']]\n",
        "min_max_scaler = preprocessing.StandardScaler()\n",
        "np_scaled = min_max_scaler.fit_transform(data)\n",
        "data = pd.DataFrame(np_scaled)\n",
        "\n",
        "# Dimension Reduction\n",
        "pca = PCA(n_components=2)\n",
        "data = pca.fit_transform(data)\n",
        "\n",
        "# Standardization\n",
        "min_max_scaler = preprocessing.StandardScaler()\n",
        "np_scaled = min_max_scaler.fit_transform(data)\n",
        "data = pd.DataFrame(np_scaled)"
      ],
      "metadata": {
        "id": "AgcMcGiS-rzp"
      },
      "execution_count": 12,
      "outputs": []
    },
    {
      "cell_type": "code",
      "source": [
        "data"
      ],
      "metadata": {
        "colab": {
          "base_uri": "https://localhost:8080/",
          "height": 423
        },
        "id": "INetNdI2IeOr",
        "outputId": "5fa1008f-930a-4d23-f2d3-71bf5662105f"
      },
      "execution_count": 13,
      "outputs": [
        {
          "output_type": "execute_result",
          "data": {
            "text/plain": [
              "             0         1\n",
              "0     0.066191  1.755363\n",
              "1    -0.009413  1.647609\n",
              "2    -0.009359  1.577677\n",
              "3     0.061592  1.543184\n",
              "4     0.031660  1.458262\n",
              "...        ...       ...\n",
              "7262 -0.663130 -0.218870\n",
              "7263 -0.669607 -0.292067\n",
              "7264 -0.679271 -0.366858\n",
              "7265 -0.684664 -0.439514\n",
              "7266 -0.734152 -0.534212\n",
              "\n",
              "[7267 rows x 2 columns]"
            ],
            "text/html": [
              "\n",
              "  <div id=\"df-23309103-239c-4ced-8bcf-ac0340d7d98e\">\n",
              "    <div class=\"colab-df-container\">\n",
              "      <div>\n",
              "<style scoped>\n",
              "    .dataframe tbody tr th:only-of-type {\n",
              "        vertical-align: middle;\n",
              "    }\n",
              "\n",
              "    .dataframe tbody tr th {\n",
              "        vertical-align: top;\n",
              "    }\n",
              "\n",
              "    .dataframe thead th {\n",
              "        text-align: right;\n",
              "    }\n",
              "</style>\n",
              "<table border=\"1\" class=\"dataframe\">\n",
              "  <thead>\n",
              "    <tr style=\"text-align: right;\">\n",
              "      <th></th>\n",
              "      <th>0</th>\n",
              "      <th>1</th>\n",
              "    </tr>\n",
              "  </thead>\n",
              "  <tbody>\n",
              "    <tr>\n",
              "      <th>0</th>\n",
              "      <td>0.066191</td>\n",
              "      <td>1.755363</td>\n",
              "    </tr>\n",
              "    <tr>\n",
              "      <th>1</th>\n",
              "      <td>-0.009413</td>\n",
              "      <td>1.647609</td>\n",
              "    </tr>\n",
              "    <tr>\n",
              "      <th>2</th>\n",
              "      <td>-0.009359</td>\n",
              "      <td>1.577677</td>\n",
              "    </tr>\n",
              "    <tr>\n",
              "      <th>3</th>\n",
              "      <td>0.061592</td>\n",
              "      <td>1.543184</td>\n",
              "    </tr>\n",
              "    <tr>\n",
              "      <th>4</th>\n",
              "      <td>0.031660</td>\n",
              "      <td>1.458262</td>\n",
              "    </tr>\n",
              "    <tr>\n",
              "      <th>...</th>\n",
              "      <td>...</td>\n",
              "      <td>...</td>\n",
              "    </tr>\n",
              "    <tr>\n",
              "      <th>7262</th>\n",
              "      <td>-0.663130</td>\n",
              "      <td>-0.218870</td>\n",
              "    </tr>\n",
              "    <tr>\n",
              "      <th>7263</th>\n",
              "      <td>-0.669607</td>\n",
              "      <td>-0.292067</td>\n",
              "    </tr>\n",
              "    <tr>\n",
              "      <th>7264</th>\n",
              "      <td>-0.679271</td>\n",
              "      <td>-0.366858</td>\n",
              "    </tr>\n",
              "    <tr>\n",
              "      <th>7265</th>\n",
              "      <td>-0.684664</td>\n",
              "      <td>-0.439514</td>\n",
              "    </tr>\n",
              "    <tr>\n",
              "      <th>7266</th>\n",
              "      <td>-0.734152</td>\n",
              "      <td>-0.534212</td>\n",
              "    </tr>\n",
              "  </tbody>\n",
              "</table>\n",
              "<p>7267 rows × 2 columns</p>\n",
              "</div>\n",
              "      <button class=\"colab-df-convert\" onclick=\"convertToInteractive('df-23309103-239c-4ced-8bcf-ac0340d7d98e')\"\n",
              "              title=\"Convert this dataframe to an interactive table.\"\n",
              "              style=\"display:none;\">\n",
              "        \n",
              "  <svg xmlns=\"http://www.w3.org/2000/svg\" height=\"24px\"viewBox=\"0 0 24 24\"\n",
              "       width=\"24px\">\n",
              "    <path d=\"M0 0h24v24H0V0z\" fill=\"none\"/>\n",
              "    <path d=\"M18.56 5.44l.94 2.06.94-2.06 2.06-.94-2.06-.94-.94-2.06-.94 2.06-2.06.94zm-11 1L8.5 8.5l.94-2.06 2.06-.94-2.06-.94L8.5 2.5l-.94 2.06-2.06.94zm10 10l.94 2.06.94-2.06 2.06-.94-2.06-.94-.94-2.06-.94 2.06-2.06.94z\"/><path d=\"M17.41 7.96l-1.37-1.37c-.4-.4-.92-.59-1.43-.59-.52 0-1.04.2-1.43.59L10.3 9.45l-7.72 7.72c-.78.78-.78 2.05 0 2.83L4 21.41c.39.39.9.59 1.41.59.51 0 1.02-.2 1.41-.59l7.78-7.78 2.81-2.81c.8-.78.8-2.07 0-2.86zM5.41 20L4 18.59l7.72-7.72 1.47 1.35L5.41 20z\"/>\n",
              "  </svg>\n",
              "      </button>\n",
              "      \n",
              "  <style>\n",
              "    .colab-df-container {\n",
              "      display:flex;\n",
              "      flex-wrap:wrap;\n",
              "      gap: 12px;\n",
              "    }\n",
              "\n",
              "    .colab-df-convert {\n",
              "      background-color: #E8F0FE;\n",
              "      border: none;\n",
              "      border-radius: 50%;\n",
              "      cursor: pointer;\n",
              "      display: none;\n",
              "      fill: #1967D2;\n",
              "      height: 32px;\n",
              "      padding: 0 0 0 0;\n",
              "      width: 32px;\n",
              "    }\n",
              "\n",
              "    .colab-df-convert:hover {\n",
              "      background-color: #E2EBFA;\n",
              "      box-shadow: 0px 1px 2px rgba(60, 64, 67, 0.3), 0px 1px 3px 1px rgba(60, 64, 67, 0.15);\n",
              "      fill: #174EA6;\n",
              "    }\n",
              "\n",
              "    [theme=dark] .colab-df-convert {\n",
              "      background-color: #3B4455;\n",
              "      fill: #D2E3FC;\n",
              "    }\n",
              "\n",
              "    [theme=dark] .colab-df-convert:hover {\n",
              "      background-color: #434B5C;\n",
              "      box-shadow: 0px 1px 3px 1px rgba(0, 0, 0, 0.15);\n",
              "      filter: drop-shadow(0px 1px 2px rgba(0, 0, 0, 0.3));\n",
              "      fill: #FFFFFF;\n",
              "    }\n",
              "  </style>\n",
              "\n",
              "      <script>\n",
              "        const buttonEl =\n",
              "          document.querySelector('#df-23309103-239c-4ced-8bcf-ac0340d7d98e button.colab-df-convert');\n",
              "        buttonEl.style.display =\n",
              "          google.colab.kernel.accessAllowed ? 'block' : 'none';\n",
              "\n",
              "        async function convertToInteractive(key) {\n",
              "          const element = document.querySelector('#df-23309103-239c-4ced-8bcf-ac0340d7d98e');\n",
              "          const dataTable =\n",
              "            await google.colab.kernel.invokeFunction('convertToInteractive',\n",
              "                                                     [key], {});\n",
              "          if (!dataTable) return;\n",
              "\n",
              "          const docLinkHtml = 'Like what you see? Visit the ' +\n",
              "            '<a target=\"_blank\" href=https://colab.research.google.com/notebooks/data_table.ipynb>data table notebook</a>'\n",
              "            + ' to learn more about interactive tables.';\n",
              "          element.innerHTML = '';\n",
              "          dataTable['output_type'] = 'display_data';\n",
              "          await google.colab.output.renderOutput(dataTable, element);\n",
              "          const docLink = document.createElement('div');\n",
              "          docLink.innerHTML = docLinkHtml;\n",
              "          element.appendChild(docLink);\n",
              "        }\n",
              "      </script>\n",
              "    </div>\n",
              "  </div>\n",
              "  "
            ]
          },
          "metadata": {},
          "execution_count": 13
        }
      ]
    },
    {
      "cell_type": "code",
      "source": [
        "# Optimal number of centriods\n",
        "n_cluster = range(1, 20)\n",
        "kmeans = [KMeans(n_clusters=i).fit(data) for i in n_cluster]\n",
        "scores = [kmeans[i].score(data) for i in range(len(kmeans))]\n",
        "fig, ax = plt.subplots()\n",
        "ax.plot(n_cluster, scores)\n",
        "plt.show()"
      ],
      "metadata": {
        "colab": {
          "base_uri": "https://localhost:8080/",
          "height": 265
        },
        "id": "8K6Um-w5-r2O",
        "outputId": "4c4b7ab2-6655-4326-bd30-d065c5f54cfd"
      },
      "execution_count": 14,
      "outputs": [
        {
          "output_type": "display_data",
          "data": {
            "text/plain": [
              "<Figure size 432x288 with 1 Axes>"
            ],
            "image/png": "[encoded data removed]"
          },
          "metadata": {
            "needs_background": "light"
          }
        }
      ]
    },
    {
      "cell_type": "markdown",
      "source": [
        "**Considering number_centroids = 15**"
      ],
      "metadata": {
        "id": "nW2mUc6cHLda"
      }
    },
    {
      "cell_type": "code",
      "source": [
        "df['cluster'] = kmeans[14].predict(data)\n",
        "df['principal_feature1'] = data[0]\n",
        "df['principal_feature2'] = data[1]\n",
        "df['cluster'].value_counts()"
      ],
      "metadata": {
        "colab": {
          "base_uri": "https://localhost:8080/"
        },
        "id": "b57U619pGEEj",
        "outputId": "b7b88971-a415-4fbe-c1a4-2b97c2d778f8"
      },
      "execution_count": 15,
      "outputs": [
        {
          "output_type": "execute_result",
          "data": {
            "text/plain": [
              "12    599\n",
              "3     596\n",
              "9     578\n",
              "5     576\n",
              "11    574\n",
              "4     546\n",
              "6     537\n",
              "0     520\n",
              "10    506\n",
              "7     460\n",
              "14    400\n",
              "1     358\n",
              "2     347\n",
              "8     339\n",
              "13    331\n",
              "Name: cluster, dtype: int64"
            ]
          },
          "metadata": {},
          "execution_count": 15
        }
      ]
    },
    {
      "cell_type": "code",
      "source": [
        "df.head(5)"
      ],
      "metadata": {
        "colab": {
          "base_uri": "https://localhost:8080/",
          "height": 444
        },
        "id": "cPzrhyFGG2Lb",
        "outputId": "6308cf8d-2309-488a-c2b7-992405cf5ba5"
      },
      "execution_count": 16,
      "outputs": [
        {
          "output_type": "execute_result",
          "data": {
            "text/plain": [
              "            timestamp      value  hours  daylight  DayOfTheWeek  WeekDay  \\\n",
              "0 2013-07-04 00:00:00  21.044908      0         0             3        1   \n",
              "1 2013-07-04 01:00:00  21.789015      1         0             3        1   \n",
              "2 2013-07-04 02:00:00  21.598781      2         0             3        1   \n",
              "3 2013-07-04 03:00:00  20.533000      3         0             3        1   \n",
              "4 2013-07-04 04:00:00  20.713084      4         0             3        1   \n",
              "\n",
              "   time_epoch  categories  cluster  principal_feature1  principal_feature2  \n",
              "0    13728960           2        5            0.066191            1.755363  \n",
              "1    13728996           2        5           -0.009413            1.647609  \n",
              "2    13729032           2        5           -0.009359            1.577677  \n",
              "3    13729068           2        5            0.061592            1.543184  \n",
              "4    13729104           2        5            0.031660            1.458262  "
            ],
            "text/html": [
              "\n",
              "  <div id=\"df-e60474ec-3320-42f8-8f90-27a068b128d5\">\n",
              "    <div class=\"colab-df-container\">\n",
              "      <div>\n",
              "<style scoped>\n",
              "    .dataframe tbody tr th:only-of-type {\n",
              "        vertical-align: middle;\n",
              "    }\n",
              "\n",
              "    .dataframe tbody tr th {\n",
              "        vertical-align: top;\n",
              "    }\n",
              "\n",
              "    .dataframe thead th {\n",
              "        text-align: right;\n",
              "    }\n",
              "</style>\n",
              "<table border=\"1\" class=\"dataframe\">\n",
              "  <thead>\n",
              "    <tr style=\"text-align: right;\">\n",
              "      <th></th>\n",
              "      <th>timestamp</th>\n",
              "      <th>value</th>\n",
              "      <th>hours</th>\n",
              "      <th>daylight</th>\n",
              "      <th>DayOfTheWeek</th>\n",
              "      <th>WeekDay</th>\n",
              "      <th>time_epoch</th>\n",
              "      <th>categories</th>\n",
              "      <th>cluster</th>\n",
              "      <th>principal_feature1</th>\n",
              "      <th>principal_feature2</th>\n",
              "    </tr>\n",
              "  </thead>\n",
              "  <tbody>\n",
              "    <tr>\n",
              "      <th>0</th>\n",
              "      <td>2013-07-04 00:00:00</td>\n",
              "      <td>21.044908</td>\n",
              "      <td>0</td>\n",
              "      <td>0</td>\n",
              "      <td>3</td>\n",
              "      <td>1</td>\n",
              "      <td>13728960</td>\n",
              "      <td>2</td>\n",
              "      <td>5</td>\n",
              "      <td>0.066191</td>\n",
              "      <td>1.755363</td>\n",
              "    </tr>\n",
              "    <tr>\n",
              "      <th>1</th>\n",
              "      <td>2013-07-04 01:00:00</td>\n",
              "      <td>21.789015</td>\n",
              "      <td>1</td>\n",
              "      <td>0</td>\n",
              "      <td>3</td>\n",
              "      <td>1</td>\n",
              "      <td>13728996</td>\n",
              "      <td>2</td>\n",
              "      <td>5</td>\n",
              "      <td>-0.009413</td>\n",
              "      <td>1.647609</td>\n",
              "    </tr>\n",
              "    <tr>\n",
              "      <th>2</th>\n",
              "      <td>2013-07-04 02:00:00</td>\n",
              "      <td>21.598781</td>\n",
              "      <td>2</td>\n",
              "      <td>0</td>\n",
              "      <td>3</td>\n",
              "      <td>1</td>\n",
              "      <td>13729032</td>\n",
              "      <td>2</td>\n",
              "      <td>5</td>\n",
              "      <td>-0.009359</td>\n",
              "      <td>1.577677</td>\n",
              "    </tr>\n",
              "    <tr>\n",
              "      <th>3</th>\n",
              "      <td>2013-07-04 03:00:00</td>\n",
              "      <td>20.533000</td>\n",
              "      <td>3</td>\n",
              "      <td>0</td>\n",
              "      <td>3</td>\n",
              "      <td>1</td>\n",
              "      <td>13729068</td>\n",
              "      <td>2</td>\n",
              "      <td>5</td>\n",
              "      <td>0.061592</td>\n",
              "      <td>1.543184</td>\n",
              "    </tr>\n",
              "    <tr>\n",
              "      <th>4</th>\n",
              "      <td>2013-07-04 04:00:00</td>\n",
              "      <td>20.713084</td>\n",
              "      <td>4</td>\n",
              "      <td>0</td>\n",
              "      <td>3</td>\n",
              "      <td>1</td>\n",
              "      <td>13729104</td>\n",
              "      <td>2</td>\n",
              "      <td>5</td>\n",
              "      <td>0.031660</td>\n",
              "      <td>1.458262</td>\n",
              "    </tr>\n",
              "  </tbody>\n",
              "</table>\n",
              "</div>\n",
              "      <button class=\"colab-df-convert\" onclick=\"convertToInteractive('df-e60474ec-3320-42f8-8f90-27a068b128d5')\"\n",
              "              title=\"Convert this dataframe to an interactive table.\"\n",
              "              style=\"display:none;\">\n",
              "        \n",
              "  <svg xmlns=\"http://www.w3.org/2000/svg\" height=\"24px\"viewBox=\"0 0 24 24\"\n",
              "       width=\"24px\">\n",
              "    <path d=\"M0 0h24v24H0V0z\" fill=\"none\"/>\n",
              "    <path d=\"M18.56 5.44l.94 2.06.94-2.06 2.06-.94-2.06-.94-.94-2.06-.94 2.06-2.06.94zm-11 1L8.5 8.5l.94-2.06 2.06-.94-2.06-.94L8.5 2.5l-.94 2.06-2.06.94zm10 10l.94 2.06.94-2.06 2.06-.94-2.06-.94-.94-2.06-.94 2.06-2.06.94z\"/><path d=\"M17.41 7.96l-1.37-1.37c-.4-.4-.92-.59-1.43-.59-.52 0-1.04.2-1.43.59L10.3 9.45l-7.72 7.72c-.78.78-.78 2.05 0 2.83L4 21.41c.39.39.9.59 1.41.59.51 0 1.02-.2 1.41-.59l7.78-7.78 2.81-2.81c.8-.78.8-2.07 0-2.86zM5.41 20L4 18.59l7.72-7.72 1.47 1.35L5.41 20z\"/>\n",
              "  </svg>\n",
              "      </button>\n",
              "      \n",
              "  <style>\n",
              "    .colab-df-container {\n",
              "      display:flex;\n",
              "      flex-wrap:wrap;\n",
              "      gap: 12px;\n",
              "    }\n",
              "\n",
              "    .colab-df-convert {\n",
              "      background-color: #E8F0FE;\n",
              "      border: none;\n",
              "      border-radius: 50%;\n",
              "      cursor: pointer;\n",
              "      display: none;\n",
              "      fill: #1967D2;\n",
              "      height: 32px;\n",
              "      padding: 0 0 0 0;\n",
              "      width: 32px;\n",
              "    }\n",
              "\n",
              "    .colab-df-convert:hover {\n",
              "      background-color: #E2EBFA;\n",
              "      box-shadow: 0px 1px 2px rgba(60, 64, 67, 0.3), 0px 1px 3px 1px rgba(60, 64, 67, 0.15);\n",
              "      fill: #174EA6;\n",
              "    }\n",
              "\n",
              "    [theme=dark] .colab-df-convert {\n",
              "      background-color: #3B4455;\n",
              "      fill: #D2E3FC;\n",
              "    }\n",
              "\n",
              "    [theme=dark] .colab-df-convert:hover {\n",
              "      background-color: #434B5C;\n",
              "      box-shadow: 0px 1px 3px 1px rgba(0, 0, 0, 0.15);\n",
              "      filter: drop-shadow(0px 1px 2px rgba(0, 0, 0, 0.3));\n",
              "      fill: #FFFFFF;\n",
              "    }\n",
              "  </style>\n",
              "\n",
              "      <script>\n",
              "        const buttonEl =\n",
              "          document.querySelector('#df-e60474ec-3320-42f8-8f90-27a068b128d5 button.colab-df-convert');\n",
              "        buttonEl.style.display =\n",
              "          google.colab.kernel.accessAllowed ? 'block' : 'none';\n",
              "\n",
              "        async function convertToInteractive(key) {\n",
              "          const element = document.querySelector('#df-e60474ec-3320-42f8-8f90-27a068b128d5');\n",
              "          const dataTable =\n",
              "            await google.colab.kernel.invokeFunction('convertToInteractive',\n",
              "                                                     [key], {});\n",
              "          if (!dataTable) return;\n",
              "\n",
              "          const docLinkHtml = 'Like what you see? Visit the ' +\n",
              "            '<a target=\"_blank\" href=https://colab.research.google.com/notebooks/data_table.ipynb>data table notebook</a>'\n",
              "            + ' to learn more about interactive tables.';\n",
              "          element.innerHTML = '';\n",
              "          dataTable['output_type'] = 'display_data';\n",
              "          await google.colab.output.renderOutput(dataTable, element);\n",
              "          const docLink = document.createElement('div');\n",
              "          docLink.innerHTML = docLinkHtml;\n",
              "          element.appendChild(docLink);\n",
              "        }\n",
              "      </script>\n",
              "    </div>\n",
              "  </div>\n",
              "  "
            ]
          },
          "metadata": {},
          "execution_count": 16
        }
      ]
    },
    {
      "cell_type": "code",
      "source": [
        "fig, ax = plt.subplots()\n",
        "colors = {0:'red', 1:'blue', 2:'green', 3:'pink', 4:'black', 5:'orange', 6:'cyan', 7:'yellow', 8:'brown', 9:'purple', 10:'white', 11: 'grey', 12:'lightblue', 13:'lightgreen', 14: 'darkgrey'}\n",
        "ax.scatter(df['principal_feature1'], df['principal_feature2'], c=df[\"cluster\"].apply(lambda x: colors[x]))\n",
        "plt.show()"
      ],
      "metadata": {
        "colab": {
          "base_uri": "https://localhost:8080/",
          "height": 265
        },
        "id": "GT4-yy8G-r4j",
        "outputId": "98787853-7699-48d2-85a7-fbc7efe59e68"
      },
      "execution_count": 17,
      "outputs": [
        {
          "output_type": "display_data",
          "data": {
            "text/plain": [
              "<Figure size 432x288 with 1 Axes>"
            ],
            "image/png": "[encoded data removed]"
          },
          "metadata": {
            "needs_background": "light"
          }
        }
      ]
    },
    {
      "cell_type": "code",
      "source": [
        "def getDistanceByPoint(data, model):\n",
        "    distance = pd.Series(np.float32)\n",
        "    for i in range(0,len(data)):\n",
        "        Xa = np.array(data.loc[i])\n",
        "        Xb = model.cluster_centers_[model.labels_[i]]\n",
        "        distance[i] = np.linalg.norm(Xa-Xb)\n",
        "    return distance\n",
        "\n",
        "# get the distance between each point and its nearest centroid. \n",
        "# The biggest distances are considered as anomaly\n",
        "\n",
        "distance = getDistanceByPoint(data, kmeans[14])\n",
        "number_of_outliers = int(outliers_fraction*len(distance))\n",
        "threshold = distance.astype(np.float32).nlargest(number_of_outliers).min()\n",
        "\n",
        "# anomaly21 contain the anomaly result of method 2.1 Cluster (0:normal, 1:anomaly) \n",
        "df['anomaly21'] = (distance >= threshold).astype(int)\n",
        "\n",
        "fig, ax = plt.subplots()\n",
        "colors = {0:'blue', 1:'red'}\n",
        "ax.scatter(df['principal_feature1'], df['principal_feature2'], c=df[\"anomaly21\"].apply(lambda x: colors[x]))\n",
        "plt.show()"
      ],
      "metadata": {
        "colab": {
          "base_uri": "https://localhost:8080/",
          "height": 265
        },
        "id": "Wq8zkJGa-r9T",
        "outputId": "b2be43af-7167-4b63-bf44-e9c59e8f821f"
      },
      "execution_count": 18,
      "outputs": [
        {
          "output_type": "display_data",
          "data": {
            "text/plain": [
              "<Figure size 432x288 with 1 Axes>"
            ],
            "image/png": "[encoded data removed]"
          },
          "metadata": {
            "needs_background": "light"
          }
        }
      ]
    },
    {
      "cell_type": "code",
      "source": [
        "# Time Domain Visualization\n",
        "\n",
        "fig, ax = plt.subplots()\n",
        "\n",
        "a = df.loc[df['anomaly21'] == 1, ['time_epoch', 'value']]\n",
        "\n",
        "ax.plot(df['time_epoch'], df['value'], color='blue')\n",
        "ax.scatter(a['time_epoch'],a['value'], color='red')\n",
        "plt.show()"
      ],
      "metadata": {
        "colab": {
          "base_uri": "https://localhost:8080/",
          "height": 278
        },
        "id": "BFm85yByzhm1",
        "outputId": "169e6352-9589-45f2-efcc-2fe8539a4522"
      },
      "execution_count": 19,
      "outputs": [
        {
          "output_type": "display_data",
          "data": {
            "text/plain": [
              "<Figure size 432x288 with 1 Axes>"
            ],
            "image/png": "[encoded data removed]"
          },
          "metadata": {
            "needs_background": "light"
          }
        }
      ]
    },
    {
      "cell_type": "markdown",
      "source": [
        "#### **2. Categories + Gaussian**"
      ],
      "metadata": {
        "id": "Af0aGDiqc9KL"
      }
    },
    {
      "cell_type": "code",
      "source": [
        "df_class0 = df.loc[df['categories'] == 0, 'value']\n",
        "df_class1 = df.loc[df['categories'] == 1, 'value']\n",
        "df_class2 = df.loc[df['categories'] == 2, 'value']\n",
        "df_class3 = df.loc[df['categories'] == 3, 'value']"
      ],
      "metadata": {
        "id": "9xmoKMDCbnmV"
      },
      "execution_count": 20,
      "outputs": []
    },
    {
      "cell_type": "code",
      "source": [
        "fig, axs = plt.subplots(2,2)\n",
        "df_class0.hist(ax=axs[0,0],bins=32)\n",
        "df_class1.hist(ax=axs[0,1],bins=32)\n",
        "df_class2.hist(ax=axs[1,0],bins=32)\n",
        "df_class3.hist(ax=axs[1,1],bins=32)"
      ],
      "metadata": {
        "colab": {
          "base_uri": "https://localhost:8080/",
          "height": 283
        },
        "id": "eM2UZOJRbnr2",
        "outputId": "57e8dd8d-75cd-491b-e033-1d06f092fb6a"
      },
      "execution_count": 21,
      "outputs": [
        {
          "output_type": "execute_result",
          "data": {
            "text/plain": [
              "<matplotlib.axes._subplots.AxesSubplot at 0x7fbf7cc0f9d0>"
            ]
          },
          "metadata": {},
          "execution_count": 21
        },
        {
          "output_type": "display_data",
          "data": {
            "text/plain": [
              "<Figure size 432x288 with 4 Axes>"
            ],
            "image/png": "[encoded data removed]"
          },
          "metadata": {
            "needs_background": "light"
          }
        }
      ]
    },
    {
      "cell_type": "code",
      "source": [
        "# apply ellipticEnvelope(gaussian distribution) at each categories\n",
        "envelope =  EllipticEnvelope(contamination = outliers_fraction) \n",
        "X_train = df_class0.values.reshape(-1,1)\n",
        "envelope.fit(X_train)\n",
        "df_class0 = pd.DataFrame(df_class0)\n",
        "df_class0['deviation'] = envelope.decision_function(X_train)\n",
        "df_class0['anomaly'] = envelope.predict(X_train)\n",
        "\n",
        "envelope =  EllipticEnvelope(contamination = outliers_fraction) \n",
        "X_train = df_class1.values.reshape(-1,1)\n",
        "envelope.fit(X_train)\n",
        "df_class1 = pd.DataFrame(df_class1)\n",
        "df_class1['deviation'] = envelope.decision_function(X_train)\n",
        "df_class1['anomaly'] = envelope.predict(X_train)\n",
        "\n",
        "envelope =  EllipticEnvelope(contamination = outliers_fraction) \n",
        "X_train = df_class2.values.reshape(-1,1)\n",
        "envelope.fit(X_train)\n",
        "df_class2 = pd.DataFrame(df_class2)\n",
        "df_class2['deviation'] = envelope.decision_function(X_train)\n",
        "df_class2['anomaly'] = envelope.predict(X_train)\n",
        "\n",
        "envelope =  EllipticEnvelope(contamination = outliers_fraction) \n",
        "X_train = df_class3.values.reshape(-1,1)\n",
        "envelope.fit(X_train)\n",
        "df_class3 = pd.DataFrame(df_class3)\n",
        "df_class3['deviation'] = envelope.decision_function(X_train)\n",
        "df_class3['anomaly'] = envelope.predict(X_train)"
      ],
      "metadata": {
        "id": "is0JzbIibnw_"
      },
      "execution_count": 22,
      "outputs": []
    },
    {
      "cell_type": "code",
      "source": [
        "# Visaulization\n",
        "a0 = df_class0.loc[df_class0['anomaly'] == 1, 'value']\n",
        "b0 = df_class0.loc[df_class0['anomaly'] == -1, 'value']\n",
        "\n",
        "a1 = df_class1.loc[df_class1['anomaly'] == 1, 'value']\n",
        "b1 = df_class1.loc[df_class1['anomaly'] == -1, 'value']\n",
        "\n",
        "a2 = df_class2.loc[df_class2['anomaly'] == 1, 'value']\n",
        "b2 = df_class2.loc[df_class2['anomaly'] == -1, 'value']\n",
        "\n",
        "a3 = df_class3.loc[df_class3['anomaly'] == 1, 'value']\n",
        "b3 = df_class3.loc[df_class3['anomaly'] == -1, 'value']\n",
        "\n",
        "fig, axs = plt.subplots(2,2)\n",
        "axs[0,0].hist([a0,b0], bins=32, stacked=True, color=['blue', 'red'])\n",
        "axs[0,1].hist([a1,b1], bins=32, stacked=True, color=['blue', 'red'])\n",
        "axs[1,0].hist([a2,b2], bins=32, stacked=True, color=['blue', 'red'])\n",
        "axs[1,1].hist([a3,b3], bins=32, stacked=True, color=['blue', 'red'])\n",
        "axs[0,0].set_title(\"WeekEndNight\")\n",
        "axs[0,1].set_title(\"WeekEndLight\")\n",
        "axs[1,0].set_title(\"WeekDayNight\")\n",
        "axs[1,1].set_title(\"WeekDayLight\")\n",
        "plt.legend()\n",
        "plt.show()"
      ],
      "metadata": {
        "colab": {
          "base_uri": "https://localhost:8080/",
          "height": 388
        },
        "id": "gcnGwqQabn2P",
        "outputId": "04c1634c-ab33-4caf-f200-ff3db901118e"
      },
      "execution_count": 23,
      "outputs": [
        {
          "output_type": "stream",
          "name": "stderr",
          "text": [
            "/usr/local/lib/python3.7/dist-packages/numpy/core/fromnumeric.py:3208: VisibleDeprecationWarning: Creating an ndarray from ragged nested sequences (which is a list-or-tuple of lists-or-tuples-or ndarrays with different lengths or shapes) is deprecated. If you meant to do this, you must specify 'dtype=object' when creating the ndarray.\n",
            "  return asarray(a).size\n",
            "/usr/local/lib/python3.7/dist-packages/matplotlib/cbook/__init__.py:1376: VisibleDeprecationWarning: Creating an ndarray from ragged nested sequences (which is a list-or-tuple of lists-or-tuples-or ndarrays with different lengths or shapes) is deprecated. If you meant to do this, you must specify 'dtype=object' when creating the ndarray.\n",
            "  X = np.atleast_1d(X.T if isinstance(X, np.ndarray) else np.asarray(X))\n",
            "No handles with labels found to put in legend.\n"
          ]
        },
        {
          "output_type": "display_data",
          "data": {
            "text/plain": [
              "<Figure size 432x288 with 4 Axes>"
            ],
            "image/png": "[encoded data removed]"
          },
          "metadata": {
            "needs_background": "light"
          }
        }
      ]
    },
    {
      "cell_type": "code",
      "source": [
        "df_class = pd.concat([df_class0, df_class1, df_class2, df_class3])\n",
        "df['anomaly22'] = df_class['anomaly']\n",
        "df['anomaly22'] = np.array(df['anomaly22'] == -1).astype(int)\n",
        "\n",
        "fig, ax = plt.subplots()\n",
        "\n",
        "a = df.loc[df['anomaly22'] == 1, ('time_epoch', 'value')] #anomaly\n",
        "\n",
        "ax.plot(df['time_epoch'], df['value'], color='blue')\n",
        "ax.scatter(a['time_epoch'],a['value'], color='red')\n",
        "plt.show()"
      ],
      "metadata": {
        "colab": {
          "base_uri": "https://localhost:8080/",
          "height": 278
        },
        "id": "aaY6kydmbn6U",
        "outputId": "d1b30aa5-a504-4468-c558-a712c7f869af"
      },
      "execution_count": 24,
      "outputs": [
        {
          "output_type": "display_data",
          "data": {
            "text/plain": [
              "<Figure size 432x288 with 1 Axes>"
            ],
            "image/png": "[encoded data removed]"
          },
          "metadata": {
            "needs_background": "light"
          }
        }
      ]
    },
    {
      "cell_type": "markdown",
      "source": [
        "#### **3. Markov Chains**"
      ],
      "metadata": {
        "id": "rI6-SzUvihnO"
      }
    },
    {
      "cell_type": "markdown",
      "source": [
        "We need to discretize the data points in define states for markov chain. We will just take 'value' to define state for this example and define 5 levels of value (very low, low, average, high, very high)/(VL, L, A, H, VH). Markov chain will calculate the probability of sequence like (VL, L, L, A, A, L, A). If the probability is very weak we consider the sequence as an anomaly."
      ],
      "metadata": {
        "id": "F1v-MfIUTBm3"
      }
    },
    {
      "cell_type": "code",
      "source": [
        "x1 = (df['value'] <=18).astype(int)\n",
        "x2= ((df['value'] > 18) & (df['value']<=21)).astype(int)\n",
        "x3 = ((df['value'] > 21) & (df['value']<=24)).astype(int)\n",
        "x4 = ((df['value'] > 24) & (df['value']<=27)).astype(int)\n",
        "x5 = (df['value'] >27).astype(int)\n",
        "df_mm = x1 + 2*x2 + 3*x3 + 4*x4 + 5*x5"
      ],
      "metadata": {
        "id": "wa5XFHj6bn_C"
      },
      "execution_count": 25,
      "outputs": []
    },
    {
      "cell_type": "code",
      "source": [
        "def getTransitionMatrix (df):\n",
        "\tdf = np.array(df)\n",
        "\tmodel = msm.estimate_markov_model(df, 1)\n",
        "\treturn model.transition_matrix\n",
        "\n",
        "def successProbabilityMetric(state1, state2, transition_matrix):\n",
        "    proba = 0\n",
        "    for k in range(0,len(transition_matrix)):\n",
        "        if (k != (state2-1)):\n",
        "            proba += transition_matrix[state1-1][k]\n",
        "    return 1-proba\n",
        "\n",
        "def sucessScore(sequence, transition_matrix):\n",
        "    proba = 0 \n",
        "    for i in range(1,len(sequence)):\n",
        "        if(i == 1):\n",
        "            proba = successProbabilityMetric(sequence[i-1], sequence[i], transition_matrix)\n",
        "        else:\n",
        "            proba = proba*successProbabilityMetric(sequence[i-1], sequence[i], transition_matrix)\n",
        "    return proba\n",
        "\n",
        "def anomalyElement(sequence, threshold, transition_matrix):\n",
        "    if (sucessScore(sequence, transition_matrix) > threshold):\n",
        "        return 0\n",
        "    else:\n",
        "        return 1\n",
        "\n",
        "\n",
        "def markovAnomaly(df, windows_size, threshold):\n",
        "    transition_matrix = getTransitionMatrix(df)\n",
        "    real_threshold = threshold**windows_size\n",
        "    df_anomaly = []\n",
        "    for j in range(0, len(df)):\n",
        "        if (j < windows_size):\n",
        "            df_anomaly.append(0)\n",
        "        else:\n",
        "            sequence = df[j-windows_size:j]\n",
        "            sequence = sequence.reset_index(drop=True)\n",
        "            df_anomaly.append(anomalyElement(sequence, real_threshold, transition_matrix))\n",
        "    return df_anomaly\n",
        "\n",
        "# getting the anomaly labels for our dataset (evaluating sequence of 5 values and anomaly = less than 20% probable)\n",
        "df_anomaly = markovAnomaly(df_mm, 5, 0.20)\n",
        "df_anomaly = pd.Series(df_anomaly)\n",
        "print(df_anomaly.value_counts())"
      ],
      "metadata": {
        "colab": {
          "base_uri": "https://localhost:8080/"
        },
        "id": "7hHLGYWTboEC",
        "outputId": "3e76b743-bd1b-40fd-9a8b-7fedc7ef7e01"
      },
      "execution_count": 26,
      "outputs": [
        {
          "output_type": "stream",
          "name": "stdout",
          "text": [
            "0    7147\n",
            "1     120\n",
            "dtype: int64\n"
          ]
        }
      ]
    },
    {
      "cell_type": "code",
      "source": [
        "df['anomaly24'] = df_anomaly\n",
        "\n",
        "# visualisation of anomaly throughout time (viz 1)\n",
        "fig, ax = plt.subplots()\n",
        "\n",
        "a = df.loc[df['anomaly24'] == 1, ('time_epoch', 'value')] #anomaly\n",
        "\n",
        "ax.plot(df['time_epoch'], df['value'], color='blue')\n",
        "ax.scatter(a['time_epoch'],a['value'], color='red')\n",
        "plt.show()"
      ],
      "metadata": {
        "colab": {
          "base_uri": "https://localhost:8080/",
          "height": 278
        },
        "id": "izSTQ2iuboJ_",
        "outputId": "cf32901e-a4df-4f2d-af67-6d2d47dd31b3"
      },
      "execution_count": 27,
      "outputs": [
        {
          "output_type": "display_data",
          "data": {
            "text/plain": [
              "<Figure size 432x288 with 1 Axes>"
            ],
            "image/png": "[encoded data removed]"
          },
          "metadata": {
            "needs_background": "light"
          }
        }
      ]
    },
    {
      "cell_type": "markdown",
      "source": [
        "#### **4. Isolation Forest**"
      ],
      "metadata": {
        "id": "FsbxID6IU05y"
      }
    },
    {
      "cell_type": "code",
      "source": [
        "data = df[['value', 'hours', 'daylight', 'DayOfTheWeek', 'WeekDay']]\n",
        "min_max_scaler = preprocessing.StandardScaler()\n",
        "np_scaled = min_max_scaler.fit_transform(data)\n",
        "data = pd.DataFrame(np_scaled)\n",
        "# train isolation forest \n",
        "model =  IsolationForest(contamination = outliers_fraction)\n",
        "model.fit(data)\n",
        "# add the data to the main  \n",
        "df['anomaly25'] = pd.Series(model.predict(data))\n",
        "df['anomaly25'] = df['anomaly25'].map( {1: 0, -1: 1} )\n",
        "print(df['anomaly25'].value_counts())"
      ],
      "metadata": {
        "colab": {
          "base_uri": "https://localhost:8080/"
        },
        "id": "L09gbw4xUva0",
        "outputId": "5bffbda8-b5a8-42cb-cd8d-76ffdbf0f9f3"
      },
      "execution_count": 28,
      "outputs": [
        {
          "output_type": "stream",
          "name": "stdout",
          "text": [
            "0    7194\n",
            "1      73\n",
            "Name: anomaly25, dtype: int64\n"
          ]
        }
      ]
    },
    {
      "cell_type": "code",
      "source": [
        "fig, ax = plt.subplots()\n",
        "\n",
        "a = df.loc[df['anomaly25'] == 1, ['time_epoch', 'value']] #anomaly\n",
        "\n",
        "ax.plot(df['time_epoch'], df['value'], color='blue')\n",
        "ax.scatter(a['time_epoch'],a['value'], color='red')\n",
        "plt.show()"
      ],
      "metadata": {
        "colab": {
          "base_uri": "https://localhost:8080/",
          "height": 278
        },
        "id": "2uwLG6CsVrvW",
        "outputId": "09a31896-24e2-4200-dacd-76152fe34095"
      },
      "execution_count": 29,
      "outputs": [
        {
          "output_type": "display_data",
          "data": {
            "text/plain": [
              "<Figure size 432x288 with 1 Axes>"
            ],
            "image/png": "[encoded data removed]"
          },
          "metadata": {
            "needs_background": "light"
          }
        }
      ]
    },
    {
      "cell_type": "markdown",
      "source": [
        "#### **5. One Class SVM**"
      ],
      "metadata": {
        "id": "S_Wo_kAuWcX3"
      }
    },
    {
      "cell_type": "code",
      "source": [
        "data = df[['value', 'hours', 'daylight', 'DayOfTheWeek', 'WeekDay']]\n",
        "min_max_scaler = preprocessing.StandardScaler()\n",
        "np_scaled = min_max_scaler.fit_transform(data)\n",
        "# train one class SVM \n",
        "model =  OneClassSVM(nu=0.95 * outliers_fraction) #nu=0.95 * outliers_fraction  + 0.05\n",
        "data = pd.DataFrame(np_scaled)\n",
        "model.fit(data)\n",
        "# add the data to the main  \n",
        "df['anomaly26'] = pd.Series(model.predict(data))\n",
        "df['anomaly26'] = df['anomaly26'].map( {1: 0, -1: 1} )\n",
        "print(df['anomaly26'].value_counts())"
      ],
      "metadata": {
        "colab": {
          "base_uri": "https://localhost:8080/"
        },
        "id": "uqxduySwVskK",
        "outputId": "c803c746-26e8-4a90-e605-4f1d6935a99d"
      },
      "execution_count": 30,
      "outputs": [
        {
          "output_type": "stream",
          "name": "stdout",
          "text": [
            "0    7198\n",
            "1      69\n",
            "Name: anomaly26, dtype: int64\n"
          ]
        }
      ]
    },
    {
      "cell_type": "code",
      "source": [
        "fig, ax = plt.subplots()\n",
        "\n",
        "a = df.loc[df['anomaly26'] == 1, ['time_epoch', 'value']] #anomaly\n",
        "\n",
        "ax.plot(df['time_epoch'], df['value'], color='blue')\n",
        "ax.scatter(a['time_epoch'],a['value'], color='red')\n",
        "plt.show()"
      ],
      "metadata": {
        "colab": {
          "base_uri": "https://localhost:8080/",
          "height": 278
        },
        "id": "LbsyfwWjWnNQ",
        "outputId": "7b705b30-f679-48b9-b9f4-315f8c422d4b"
      },
      "execution_count": 31,
      "outputs": [
        {
          "output_type": "display_data",
          "data": {
            "text/plain": [
              "<Figure size 432x288 with 1 Axes>"
            ],
            "image/png": "[encoded data removed]"
          },
          "metadata": {
            "needs_background": "light"
          }
        }
      ]
    },
    {
      "cell_type": "markdown",
      "source": [
        "#### **6. RNN**"
      ],
      "metadata": {
        "id": "ptNrhYHoXWsU"
      }
    },
    {
      "cell_type": "code",
      "source": [
        "data_n = df[['value', 'hours', 'daylight', 'DayOfTheWeek', 'WeekDay']]\n",
        "min_max_scaler = preprocessing.StandardScaler()\n",
        "np_scaled = min_max_scaler.fit_transform(data_n)\n",
        "data_n = pd.DataFrame(np_scaled)\n",
        "\n",
        "prediction_time = 1 \n",
        "testdatasize = 1000\n",
        "unroll_length = 50\n",
        "testdatacut = testdatasize + unroll_length  + 1\n",
        "\n",
        "#train data\n",
        "x_train = data_n[0:-prediction_time-testdatacut]\n",
        "y_train = data_n[prediction_time:-testdatacut  ][0]\n",
        "\n",
        "# test data\n",
        "x_test = data_n[0-testdatacut:-prediction_time]\n",
        "y_test = data_n[prediction_time-testdatacut:  ][0]\n",
        "\n",
        "#unroll: create sequence of 50 previous data points for each data points\n",
        "def unroll(data,sequence_length=24):\n",
        "    result = []\n",
        "    for index in range(len(data) - sequence_length):\n",
        "        result.append(data[index: index + sequence_length])\n",
        "    return np.asarray(result)\n",
        "\n",
        "x_train = unroll(x_train,unroll_length)\n",
        "x_test  = unroll(x_test,unroll_length)\n",
        "y_train = y_train[-x_train.shape[0]:]\n",
        "y_test  = y_test[-x_test.shape[0]:]\n",
        "\n",
        "# see the shape\n",
        "print(\"x_train\", x_train.shape)\n",
        "print(\"y_train\", y_train.shape)\n",
        "print(\"x_test\", x_test.shape)\n",
        "print(\"y_test\", y_test.shape)"
      ],
      "metadata": {
        "colab": {
          "base_uri": "https://localhost:8080/"
        },
        "id": "fwGJ5JJRXScq",
        "outputId": "c4988be6-2d32-4b0a-ccb1-3880c663b898"
      },
      "execution_count": 60,
      "outputs": [
        {
          "output_type": "stream",
          "name": "stdout",
          "text": [
            "x_train (6165, 50, 5)\n",
            "y_train (6165,)\n",
            "x_test (1000, 50, 5)\n",
            "y_test (1000,)\n"
          ]
        }
      ]
    },
    {
      "cell_type": "code",
      "source": [
        "from keras.layers.core import Dense, Activation, Dropout\n",
        "from keras.layers.recurrent import LSTM\n",
        "from keras.models import Sequential\n",
        "from keras.callbacks import EarlyStopping"
      ],
      "metadata": {
        "id": "RPo9pC7yeEuV"
      },
      "execution_count": 45,
      "outputs": []
    },
    {
      "cell_type": "code",
      "source": [
        "# Build the model\n",
        "model = Sequential()\n",
        "\n",
        "model.add(LSTM(units=64,input_shape=(50,5),\\\n",
        "               activation='relu',return_sequences=True))\n",
        "model.add(Dropout(0.2))\n",
        "\n",
        "model.add(LSTM(units=64,activation='relu',return_sequences=False))\n",
        "model.add(Dropout(0.2))\n",
        "\n",
        "model.add(Dense(1,activation='linear'))\n",
        "print(model.summary())"
      ],
      "metadata": {
        "colab": {
          "base_uri": "https://localhost:8080/"
        },
        "id": "zPx7ySlrdFQ_",
        "outputId": "5235ac29-fdf7-4835-af62-4aa256f647a4"
      },
      "execution_count": 41,
      "outputs": [
        {
          "output_type": "stream",
          "name": "stdout",
          "text": [
            "Model: \"sequential_4\"\n",
            "_________________________________________________________________\n",
            " Layer (type)                Output Shape              Param #   \n",
            "=================================================================\n",
            " lstm_6 (LSTM)               (None, 50, 64)            17920     \n",
            "                                                                 \n",
            " dropout_6 (Dropout)         (None, 50, 64)            0         \n",
            "                                                                 \n",
            " lstm_7 (LSTM)               (None, 64)                33024     \n",
            "                                                                 \n",
            " dropout_7 (Dropout)         (None, 64)                0         \n",
            "                                                                 \n",
            " dense_3 (Dense)             (None, 1)                 65        \n",
            "                                                                 \n",
            "=================================================================\n",
            "Total params: 51,009\n",
            "Trainable params: 51,009\n",
            "Non-trainable params: 0\n",
            "_________________________________________________________________\n",
            "None\n"
          ]
        }
      ]
    },
    {
      "cell_type": "code",
      "source": [
        "model.compile(loss='mse',optimizer='adam')"
      ],
      "metadata": {
        "id": "qg6O0707dqBx"
      },
      "execution_count": 42,
      "outputs": []
    },
    {
      "metadata": {
        "trusted": true,
        "_uuid": "b8f2d754b02a3917b4ae94696d887b30b60bc3bb",
        "collapsed": true,
        "id": "JPyZjKY9ctvj",
        "colab": {
          "base_uri": "https://localhost:8080/"
        },
        "outputId": "9e655a99-37ed-4706-842b-9a73b5ddfaeb"
      },
      "cell_type": "code",
      "source": [
        "# Train the network\n",
        "model.fit(x_train, y_train, epochs=30, batch_size=64, validation_split=0.05, verbose=1,\n",
        "          callbacks = [EarlyStopping(monitor='val_loss', min_delta=0, patience=0, verbose=0, mode='auto')])"
      ],
      "execution_count": 44,
      "outputs": [
        {
          "output_type": "stream",
          "name": "stdout",
          "text": [
            "Epoch 1/30\n",
            "92/92 [==============================] - 44s 391ms/step - loss: 0.1980 - val_loss: 0.1394\n",
            "Epoch 2/30\n",
            "92/92 [==============================] - 36s 390ms/step - loss: 0.0759 - val_loss: 0.1195\n"
          ]
        },
        {
          "output_type": "execute_result",
          "data": {
            "text/plain": [
              "<keras.callbacks.History at 0x7fbe9608e8d0>"
            ]
          },
          "metadata": {},
          "execution_count": 44
        }
      ]
    },
    {
      "cell_type": "code",
      "source": [
        "model.evaluate(x_test,y_test)"
      ],
      "metadata": {
        "colab": {
          "base_uri": "https://localhost:8080/"
        },
        "id": "1M0bzIZ3dqGB",
        "outputId": "66ebc648-f1ef-423b-f0ca-41daff13e89a"
      },
      "execution_count": 61,
      "outputs": [
        {
          "output_type": "stream",
          "name": "stdout",
          "text": [
            "32/32 [==============================] - 1s 34ms/step - loss: 0.1718\n"
          ]
        },
        {
          "output_type": "execute_result",
          "data": {
            "text/plain": [
              "0.17176933586597443"
            ]
          },
          "metadata": {},
          "execution_count": 61
        }
      ]
    },
    {
      "cell_type": "code",
      "source": [
        "y_test = y_test.to_numpy()"
      ],
      "metadata": {
        "id": "oVP4V9zodqPP"
      },
      "execution_count": 63,
      "outputs": []
    },
    {
      "cell_type": "code",
      "source": [
        "diff=[]\n",
        "ratio=[]\n",
        "p = model.predict(x_test)\n",
        "# predictions = lstm.predict_sequences_multiple(loaded_model, x_test, 50, 50)\n",
        "for u in range(len(y_test)):\n",
        "    pr = p[u][0]\n",
        "    ratio.append((y_test[u]/pr)-1)\n",
        "    diff.append(abs(y_test[u]- pr))"
      ],
      "metadata": {
        "id": "oe5UWW3CdqKZ"
      },
      "execution_count": 66,
      "outputs": []
    },
    {
      "cell_type": "code",
      "source": [
        "fig, axs = plt.subplots()\n",
        "axs.plot(p,color='red', label='prediction')\n",
        "axs.plot(y_test,color='blue', label='y_test')\n",
        "plt.legend(loc='upper left')\n",
        "plt.show()"
      ],
      "metadata": {
        "colab": {
          "base_uri": "https://localhost:8080/",
          "height": 268
        },
        "id": "A78gry8Dv5CO",
        "outputId": "347c54bc-2342-496d-b592-334325491143"
      },
      "execution_count": 67,
      "outputs": [
        {
          "output_type": "display_data",
          "data": {
            "text/plain": [
              "<Figure size 432x288 with 1 Axes>"
            ],
            "image/png": "[encoded data removed]"
          },
          "metadata": {
            "needs_background": "light"
          }
        }
      ]
    },
    {
      "cell_type": "code",
      "source": [
        "diff = pd.Series(diff)\n",
        "number_of_outliers = int(outliers_fraction*len(diff))\n",
        "threshold = diff.nlargest(number_of_outliers).min()\n",
        "\n",
        "# data with anomaly label (test data part)\n",
        "test = (diff >= threshold).astype(int)\n",
        "\n",
        "# the training data part where we didn't predict anything (overfitting possible): no anomaly\n",
        "complement = pd.Series(0, index=np.arange(len(data_n)-testdatasize))\n",
        "\n",
        "# add the data to the main\n",
        "df['anomaly27'] = complement.append(test, ignore_index='True')\n",
        "print(df['anomaly27'].value_counts())"
      ],
      "metadata": {
        "colab": {
          "base_uri": "https://localhost:8080/"
        },
        "id": "3ymmAniAwAdJ",
        "outputId": "6f16511f-97aa-406f-cb49-80837bf6ced5"
      },
      "execution_count": 68,
      "outputs": [
        {
          "output_type": "stream",
          "name": "stdout",
          "text": [
            "0    7257\n",
            "1      10\n",
            "Name: anomaly27, dtype: int64\n"
          ]
        }
      ]
    },
    {
      "cell_type": "code",
      "source": [
        "fig, ax = plt.subplots()\n",
        "\n",
        "a = df.loc[df['anomaly27'] == 1, ['time_epoch', 'value']] #anomaly\n",
        "\n",
        "ax.plot(df['time_epoch'], df['value'], color='blue')\n",
        "ax.scatter(a['time_epoch'],a['value'], color='red')\n",
        "plt.axis([1.370*1e7, 1.405*1e7, 15,30])\n",
        "plt.show()"
      ],
      "metadata": {
        "colab": {
          "base_uri": "https://localhost:8080/",
          "height": 282
        },
        "id": "yPk-WKLJwAi1",
        "outputId": "2712eb5e-41d8-4ff5-b14d-a102d24322f4"
      },
      "execution_count": 69,
      "outputs": [
        {
          "output_type": "display_data",
          "data": {
            "text/plain": [
              "<Figure size 432x288 with 1 Axes>"
            ],
            "image/png": "[encoded data removed]"
          },
          "metadata": {
            "needs_background": "light"
          }
        }
      ]
    }
  ]
}